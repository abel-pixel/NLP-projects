{
  "cells": [
    {
      "cell_type": "markdown",
      "id": "970e59ea-5174-4245-8ad4-c6219725adfb",
      "metadata": {
        "id": "970e59ea-5174-4245-8ad4-c6219725adfb"
      },
      "source": [
        "# HACKATHON_Geonames"
      ]
    },
    {
      "cell_type": "markdown",
      "id": "b496bcef-b65f-427d-b429-adc307ae18a6",
      "metadata": {
        "id": "b496bcef-b65f-427d-b429-adc307ae18a6"
      },
      "source": [
        "### **Заказчик**\n",
        "\n",
        "- Карьерный центр Яндекс Практикум"
      ]
    },
    {
      "cell_type": "markdown",
      "id": "6b44be20-c892-4d68-99ef-a6eb34574e0a",
      "metadata": {
        "id": "6b44be20-c892-4d68-99ef-a6eb34574e0a"
      },
      "source": [
        "### **Описание проекта**\n",
        "\n",
        "**Цель:**\n",
        ":\n",
        "- Сопоставление произвольных гео названий с унифицированными именами geonames для внутреннего использования Карьерным центр\n",
        "\n",
        "**Задачи:**\n",
        "\n",
        "- Создать решение для подбора наиболее подходящих названий с geonames. Например Ереван -> Yerevan\n",
        "\n",
        "- На примере РФ и стран наиболее популярных для релокации - Беларусь, Армения, Казахстан, Кыргызстан, Турция, Сербия. Города с населением от 15000 человек (с возможностью масштабирования на сервере заказчика)\n",
        "\n",
        "\n",
        "- Возвращаемые поля geonameid, name, region, country, cosine similarity\n",
        "- формат данных на выходе: список словарей, например [{dict_1}, {dict_2}, …. {dict_n}] где словарь - одна запись с указанными полями\n",
        "\n",
        "\n",
        "\n",
        "**Задачи опционально:**\n",
        "\n",
        "\n",
        "- возможность настройки количества выдачи подходящих названий (например в параметрах метода)\n",
        "\n",
        "\n",
        "- коррекция ошибок и опечаток. Например Моченгорск -> Monchegorsk\n",
        "\n",
        "\n",
        "- хранение в PostgreSQL данных geonames\n",
        "\n",
        "\n",
        "- хранение векторизованных промежуточных данных в PostgreSQL\n",
        "\n",
        "\n",
        "- предусмотреть методы для настройки подключения к БД\n",
        "\n",
        "\n",
        "- предусмотреть метод для инициализации класса (первичная векторизация geonames)\n",
        "\n",
        "\n",
        "- предусмотреть методы для добавления векторов новых гео названий\n",
        "\n",
        "\n",
        "**Результат:**\n",
        "\n",
        "\n",
        "- тетрадка с решением задачи (описание проекта, исследование, методы решения)\n",
        "- python-скрипт, содержащий функцию (класс), для интеграции в систему Заказчиканкцию (класс), для интеграции в систему Заказчикаями\n"
      ]
    },
    {
      "cell_type": "markdown",
      "id": "831edfff-8ada-4bc9-8fc2-19af73a91b56",
      "metadata": {
        "id": "831edfff-8ada-4bc9-8fc2-19af73a91b56"
      },
      "source": [
        "### **Описание данных**\n",
        "Используемые таблицы с geonames:\n",
        "\n",
        "- admin1CodesASCII\n",
        "- alternateNamesV2\n",
        "- cities15000\n",
        "- countryInfo\n",
        "- при необходимости любые другие открытые данные\n",
        "- таблицы geonames можно скачать здесь http://download.geonames.org/export/dump/\n"
      ]
    },
    {
      "cell_type": "markdown",
      "id": "71c0a8de-e187-484b-b92f-0d89eab41abc",
      "metadata": {
        "id": "71c0a8de-e187-484b-b92f-0d89eab41abc"
      },
      "source": [
        "### Загрузка данных"
      ]
    },
    {
      "cell_type": "code",
      "execution_count": null,
      "id": "a20f6f77-baa3-4c29-b1ee-7b5eb65f7bb4",
      "metadata": {
        "id": "a20f6f77-baa3-4c29-b1ee-7b5eb65f7bb4"
      },
      "outputs": [],
      "source": [
        "import pandas as pd\n",
        "import numpy as np\n",
        "import random\n",
        "\n",
        "import sys\n",
        "import re\n",
        "import os\n",
        "\n",
        "import torch\n",
        "import logging\n",
        "\n",
        "from sqlalchemy import create_engine,text\n",
        "from sqlalchemy.engine.url import URL\n",
        "from sentence_transformers import (\n",
        "    SentenceTransformer,\n",
        "    util,\n",
        "    models,\n",
        "    InputExample,\n",
        "    losses,\n",
        "    evaluation\n",
        ")\n",
        "from torch.utils.data import DataLoader\n",
        "import psycopg2\n",
        "from psycopg2 import Error\n",
        "from pathlib import Path\n",
        "\n",
        "import warnings\n",
        "warnings.filterwarnings(\"ignore\")\n",
        "\n",
        "RANDOM_STATE = 123"
      ]
    },
    {
      "cell_type": "code",
      "execution_count": null,
      "id": "3215e42d-14f9-4107-b437-0f655e736eeb",
      "metadata": {
        "tags": [],
        "id": "3215e42d-14f9-4107-b437-0f655e736eeb"
      },
      "outputs": [],
      "source": [
        "if torch.cuda.is_available():\n",
        "    device = torch.device('cuda')\n",
        "elif torch.backends.mps.is_available():\n",
        "    device = torch.device('mps')\n",
        "else:\n",
        "    device = torch.device('cpu')"
      ]
    },
    {
      "cell_type": "code",
      "execution_count": null,
      "id": "38debab5-50a2-4ad3-a852-2bc14916973e",
      "metadata": {
        "tags": [],
        "id": "38debab5-50a2-4ad3-a852-2bc14916973e"
      },
      "outputs": [],
      "source": [
        "RELOC_COUNTRIES = ['RU', 'BY', 'KG', 'KZ', 'AM', 'GE', 'RS', 'ME']"
      ]
    },
    {
      "cell_type": "code",
      "execution_count": null,
      "id": "dbb119fa-9643-4a62-9cce-a0e7bf9abfb9",
      "metadata": {
        "id": "dbb119fa-9643-4a62-9cce-a0e7bf9abfb9"
      },
      "outputs": [],
      "source": [
        "DATABASE = {\n",
        "    'drivername': 'postgresql',\n",
        "    'username': 'postgres',\n",
        "    'password': '2017',\n",
        "    'host': 'localhost',\n",
        "    'port': 5432,\n",
        "    'database': 'postgres',\n",
        "    'query': {}\n",
        "}\n",
        "\n",
        "engine = create_engine(URL(**DATABASE))"
      ]
    },
    {
      "cell_type": "code",
      "execution_count": null,
      "id": "312d7c6a-663d-4add-94a3-cd5f963e29a3",
      "metadata": {
        "id": "312d7c6a-663d-4add-94a3-cd5f963e29a3"
      },
      "outputs": [],
      "source": [
        "DATA = Path('DATABASE')\n",
        "MODEL = Path('_'.join(RELOC_COUNTRIES))"
      ]
    },
    {
      "cell_type": "markdown",
      "id": "e45b1253-7615-420f-8975-0a6806a0f539",
      "metadata": {
        "id": "e45b1253-7615-420f-8975-0a6806a0f539"
      },
      "source": [
        "## Загрузка датасетов"
      ]
    },
    {
      "cell_type": "code",
      "execution_count": null,
      "id": "f378b1c5-4db5-4ccf-96bf-c421e1056e99",
      "metadata": {
        "tags": [],
        "id": "f378b1c5-4db5-4ccf-96bf-c421e1056e99",
        "outputId": "29936913-3416-4024-cd2e-e2092948680a"
      },
      "outputs": [
        {
          "data": {
            "text/html": [
              "<div>\n",
              "<style scoped>\n",
              "    .dataframe tbody tr th:only-of-type {\n",
              "        vertical-align: middle;\n",
              "    }\n",
              "\n",
              "    .dataframe tbody tr th {\n",
              "        vertical-align: top;\n",
              "    }\n",
              "\n",
              "    .dataframe thead th {\n",
              "        text-align: right;\n",
              "    }\n",
              "</style>\n",
              "<table border=\"1\" class=\"dataframe\">\n",
              "  <thead>\n",
              "    <tr style=\"text-align: right;\">\n",
              "      <th></th>\n",
              "      <th>code</th>\n",
              "      <th>name</th>\n",
              "      <th>region</th>\n",
              "      <th>geonameid</th>\n",
              "    </tr>\n",
              "  </thead>\n",
              "  <tbody>\n",
              "    <tr>\n",
              "      <th>0</th>\n",
              "      <td>AD.06</td>\n",
              "      <td>Sant Julià de Loria</td>\n",
              "      <td>Sant Julia de Loria</td>\n",
              "      <td>3039162</td>\n",
              "    </tr>\n",
              "    <tr>\n",
              "      <th>1</th>\n",
              "      <td>AD.05</td>\n",
              "      <td>Ordino</td>\n",
              "      <td>Ordino</td>\n",
              "      <td>3039676</td>\n",
              "    </tr>\n",
              "    <tr>\n",
              "      <th>2</th>\n",
              "      <td>AD.04</td>\n",
              "      <td>La Massana</td>\n",
              "      <td>La Massana</td>\n",
              "      <td>3040131</td>\n",
              "    </tr>\n",
              "    <tr>\n",
              "      <th>3</th>\n",
              "      <td>AD.03</td>\n",
              "      <td>Encamp</td>\n",
              "      <td>Encamp</td>\n",
              "      <td>3040684</td>\n",
              "    </tr>\n",
              "    <tr>\n",
              "      <th>4</th>\n",
              "      <td>AD.02</td>\n",
              "      <td>Canillo</td>\n",
              "      <td>Canillo</td>\n",
              "      <td>3041203</td>\n",
              "    </tr>\n",
              "  </tbody>\n",
              "</table>\n",
              "</div>"
            ],
            "text/plain": [
              "    code                 name               region  geonameid\n",
              "0  AD.06  Sant Julià de Loria  Sant Julia de Loria    3039162\n",
              "1  AD.05               Ordino               Ordino    3039676\n",
              "2  AD.04           La Massana           La Massana    3040131\n",
              "3  AD.03               Encamp               Encamp    3040684\n",
              "4  AD.02              Canillo              Canillo    3041203"
            ]
          },
          "execution_count": 6,
          "metadata": {},
          "output_type": "execute_result"
        }
      ],
      "source": [
        "admin_codes = pd.read_csv(\n",
        "    DATA/'admin1CodesASCII.txt',\n",
        "    delimiter ='\\t',\n",
        "    header=None,\n",
        "    names=[\n",
        "        'code',\n",
        "        'name',\n",
        "        'region',\n",
        "        'geonameid',\n",
        "    ]\n",
        ")\n",
        "\n",
        "admin_codes.head()"
      ]
    },
    {
      "cell_type": "code",
      "execution_count": null,
      "id": "3701b191-d0f6-42f5-a083-6ee5749669a2",
      "metadata": {
        "tags": [],
        "id": "3701b191-d0f6-42f5-a083-6ee5749669a2",
        "outputId": "9d2adb83-e151-4640-c274-63004410cbb0"
      },
      "outputs": [
        {
          "data": {
            "text/plain": [
              "881"
            ]
          },
          "execution_count": 7,
          "metadata": {},
          "output_type": "execute_result"
        }
      ],
      "source": [
        "admin_codes.to_sql('admin_codes', con=engine,  if_exists='replace')"
      ]
    },
    {
      "cell_type": "code",
      "execution_count": null,
      "id": "176d0eb5-4732-48c7-acfc-bf3f171e833f",
      "metadata": {
        "tags": [],
        "id": "176d0eb5-4732-48c7-acfc-bf3f171e833f",
        "outputId": "a03080d2-b39c-4529-e5a5-e8cab06a1962"
      },
      "outputs": [
        {
          "data": {
            "text/html": [
              "<div>\n",
              "<style scoped>\n",
              "    .dataframe tbody tr th:only-of-type {\n",
              "        vertical-align: middle;\n",
              "    }\n",
              "\n",
              "    .dataframe tbody tr th {\n",
              "        vertical-align: top;\n",
              "    }\n",
              "\n",
              "    .dataframe thead th {\n",
              "        text-align: right;\n",
              "    }\n",
              "</style>\n",
              "<table border=\"1\" class=\"dataframe\">\n",
              "  <thead>\n",
              "    <tr style=\"text-align: right;\">\n",
              "      <th></th>\n",
              "      <th>index</th>\n",
              "      <th>code</th>\n",
              "      <th>name</th>\n",
              "      <th>region</th>\n",
              "      <th>geonameid</th>\n",
              "    </tr>\n",
              "  </thead>\n",
              "  <tbody>\n",
              "    <tr>\n",
              "      <th>0</th>\n",
              "      <td>0</td>\n",
              "      <td>AD.06</td>\n",
              "      <td>Sant Julià de Loria</td>\n",
              "      <td>Sant Julia de Loria</td>\n",
              "      <td>3039162</td>\n",
              "    </tr>\n",
              "    <tr>\n",
              "      <th>1</th>\n",
              "      <td>1</td>\n",
              "      <td>AD.05</td>\n",
              "      <td>Ordino</td>\n",
              "      <td>Ordino</td>\n",
              "      <td>3039676</td>\n",
              "    </tr>\n",
              "    <tr>\n",
              "      <th>2</th>\n",
              "      <td>2</td>\n",
              "      <td>AD.04</td>\n",
              "      <td>La Massana</td>\n",
              "      <td>La Massana</td>\n",
              "      <td>3040131</td>\n",
              "    </tr>\n",
              "    <tr>\n",
              "      <th>3</th>\n",
              "      <td>3</td>\n",
              "      <td>AD.03</td>\n",
              "      <td>Encamp</td>\n",
              "      <td>Encamp</td>\n",
              "      <td>3040684</td>\n",
              "    </tr>\n",
              "    <tr>\n",
              "      <th>4</th>\n",
              "      <td>4</td>\n",
              "      <td>AD.02</td>\n",
              "      <td>Canillo</td>\n",
              "      <td>Canillo</td>\n",
              "      <td>3041203</td>\n",
              "    </tr>\n",
              "  </tbody>\n",
              "</table>\n",
              "</div>"
            ],
            "text/plain": [
              "   index   code                 name               region  geonameid\n",
              "0      0  AD.06  Sant Julià de Loria  Sant Julia de Loria    3039162\n",
              "1      1  AD.05               Ordino               Ordino    3039676\n",
              "2      2  AD.04           La Massana           La Massana    3040131\n",
              "3      3  AD.03               Encamp               Encamp    3040684\n",
              "4      4  AD.02              Canillo              Canillo    3041203"
            ]
          },
          "execution_count": 8,
          "metadata": {},
          "output_type": "execute_result"
        }
      ],
      "source": [
        "query = 'SELECT * FROM admin_codes LIMIT 5'\n",
        "pd.read_sql_query(query, con=engine)"
      ]
    },
    {
      "cell_type": "code",
      "execution_count": null,
      "id": "7cd26255-63ba-48ac-9319-d5a2bf37e662",
      "metadata": {
        "tags": [],
        "id": "7cd26255-63ba-48ac-9319-d5a2bf37e662",
        "outputId": "ce06379b-a65b-44b8-b5cf-53d1e77e65de"
      },
      "outputs": [
        {
          "data": {
            "text/html": [
              "<div>\n",
              "<style scoped>\n",
              "    .dataframe tbody tr th:only-of-type {\n",
              "        vertical-align: middle;\n",
              "    }\n",
              "\n",
              "    .dataframe tbody tr th {\n",
              "        vertical-align: top;\n",
              "    }\n",
              "\n",
              "    .dataframe thead th {\n",
              "        text-align: right;\n",
              "    }\n",
              "</style>\n",
              "<table border=\"1\" class=\"dataframe\">\n",
              "  <thead>\n",
              "    <tr style=\"text-align: right;\">\n",
              "      <th></th>\n",
              "      <th>country_code</th>\n",
              "      <th>country</th>\n",
              "      <th>capital</th>\n",
              "      <th>geonameid</th>\n",
              "    </tr>\n",
              "  </thead>\n",
              "  <tbody>\n",
              "    <tr>\n",
              "      <th>49</th>\n",
              "      <td>#ISO</td>\n",
              "      <td>Country</td>\n",
              "      <td>Capital</td>\n",
              "      <td>geonameid</td>\n",
              "    </tr>\n",
              "    <tr>\n",
              "      <th>50</th>\n",
              "      <td>AD</td>\n",
              "      <td>Andorra</td>\n",
              "      <td>Andorra la Vella</td>\n",
              "      <td>3041565</td>\n",
              "    </tr>\n",
              "    <tr>\n",
              "      <th>51</th>\n",
              "      <td>AE</td>\n",
              "      <td>United Arab Emirates</td>\n",
              "      <td>Abu Dhabi</td>\n",
              "      <td>290557</td>\n",
              "    </tr>\n",
              "    <tr>\n",
              "      <th>52</th>\n",
              "      <td>AF</td>\n",
              "      <td>Afghanistan</td>\n",
              "      <td>Kabul</td>\n",
              "      <td>1149361</td>\n",
              "    </tr>\n",
              "    <tr>\n",
              "      <th>53</th>\n",
              "      <td>AG</td>\n",
              "      <td>Antigua and Barbuda</td>\n",
              "      <td>St. John's</td>\n",
              "      <td>3576396</td>\n",
              "    </tr>\n",
              "  </tbody>\n",
              "</table>\n",
              "</div>"
            ],
            "text/plain": [
              "   country_code               country           capital  geonameid\n",
              "49         #ISO               Country           Capital  geonameid\n",
              "50           AD               Andorra  Andorra la Vella    3041565\n",
              "51           AE  United Arab Emirates         Abu Dhabi     290557\n",
              "52           AF           Afghanistan             Kabul    1149361\n",
              "53           AG   Antigua and Barbuda        St. John's    3576396"
            ]
          },
          "execution_count": 9,
          "metadata": {},
          "output_type": "execute_result"
        }
      ],
      "source": [
        "countries = pd.read_csv(\n",
        "    DATA/'countryInfo.txt',\n",
        "    delimiter ='\\t',\n",
        "    header=None,\n",
        "    names=[\n",
        "        'country_code',\n",
        "        'ISO_3',\n",
        "        'ISO_numeric',\n",
        "        'fips',\n",
        "        'country',\n",
        "        'capital',\n",
        "        'area',\n",
        "        'population',\n",
        "        'continent',\n",
        "        'tld',\n",
        "        'currency_code',\n",
        "        'currency_name',\n",
        "        'phone',\n",
        "        'postal_code_format',\n",
        "        'postal_code_regex',\n",
        "        'languages',\n",
        "        'geonameid',\n",
        "        'neighbours',\n",
        "        'equivalent_fips_code'\n",
        "    ],\n",
        "    usecols = [\n",
        "        'geonameid',\n",
        "        'country_code',\n",
        "        'capital',\n",
        "        'country'\n",
        "    ]\n",
        ").dropna()\n",
        "countries.head()"
      ]
    },
    {
      "cell_type": "code",
      "execution_count": null,
      "id": "3bc12223-766f-430a-a887-eac4b551acec",
      "metadata": {
        "tags": [],
        "id": "3bc12223-766f-430a-a887-eac4b551acec",
        "outputId": "55a8da69-b213-4a7d-e0d4-95d096d2ea19"
      },
      "outputs": [
        {
          "data": {
            "text/plain": [
              "246"
            ]
          },
          "execution_count": 10,
          "metadata": {},
          "output_type": "execute_result"
        }
      ],
      "source": [
        "countries.to_sql('countries', con=engine,  if_exists='replace')"
      ]
    },
    {
      "cell_type": "code",
      "execution_count": null,
      "id": "480530a8-823b-4b61-974b-38537ff6639c",
      "metadata": {
        "tags": [],
        "id": "480530a8-823b-4b61-974b-38537ff6639c",
        "outputId": "5151968c-720f-4350-a903-7d8cfc926c5c"
      },
      "outputs": [
        {
          "data": {
            "text/html": [
              "<div>\n",
              "<style scoped>\n",
              "    .dataframe tbody tr th:only-of-type {\n",
              "        vertical-align: middle;\n",
              "    }\n",
              "\n",
              "    .dataframe tbody tr th {\n",
              "        vertical-align: top;\n",
              "    }\n",
              "\n",
              "    .dataframe thead th {\n",
              "        text-align: right;\n",
              "    }\n",
              "</style>\n",
              "<table border=\"1\" class=\"dataframe\">\n",
              "  <thead>\n",
              "    <tr style=\"text-align: right;\">\n",
              "      <th></th>\n",
              "      <th>index</th>\n",
              "      <th>country_code</th>\n",
              "      <th>country</th>\n",
              "      <th>capital</th>\n",
              "      <th>geonameid</th>\n",
              "    </tr>\n",
              "  </thead>\n",
              "  <tbody>\n",
              "    <tr>\n",
              "      <th>0</th>\n",
              "      <td>49</td>\n",
              "      <td>#ISO</td>\n",
              "      <td>Country</td>\n",
              "      <td>Capital</td>\n",
              "      <td>geonameid</td>\n",
              "    </tr>\n",
              "    <tr>\n",
              "      <th>1</th>\n",
              "      <td>50</td>\n",
              "      <td>AD</td>\n",
              "      <td>Andorra</td>\n",
              "      <td>Andorra la Vella</td>\n",
              "      <td>3041565</td>\n",
              "    </tr>\n",
              "    <tr>\n",
              "      <th>2</th>\n",
              "      <td>51</td>\n",
              "      <td>AE</td>\n",
              "      <td>United Arab Emirates</td>\n",
              "      <td>Abu Dhabi</td>\n",
              "      <td>290557</td>\n",
              "    </tr>\n",
              "    <tr>\n",
              "      <th>3</th>\n",
              "      <td>52</td>\n",
              "      <td>AF</td>\n",
              "      <td>Afghanistan</td>\n",
              "      <td>Kabul</td>\n",
              "      <td>1149361</td>\n",
              "    </tr>\n",
              "    <tr>\n",
              "      <th>4</th>\n",
              "      <td>53</td>\n",
              "      <td>AG</td>\n",
              "      <td>Antigua and Barbuda</td>\n",
              "      <td>St. John's</td>\n",
              "      <td>3576396</td>\n",
              "    </tr>\n",
              "    <tr>\n",
              "      <th>...</th>\n",
              "      <td>...</td>\n",
              "      <td>...</td>\n",
              "      <td>...</td>\n",
              "      <td>...</td>\n",
              "      <td>...</td>\n",
              "    </tr>\n",
              "    <tr>\n",
              "      <th>241</th>\n",
              "      <td>297</td>\n",
              "      <td>ZA</td>\n",
              "      <td>South Africa</td>\n",
              "      <td>Pretoria</td>\n",
              "      <td>953987</td>\n",
              "    </tr>\n",
              "    <tr>\n",
              "      <th>242</th>\n",
              "      <td>298</td>\n",
              "      <td>ZM</td>\n",
              "      <td>Zambia</td>\n",
              "      <td>Lusaka</td>\n",
              "      <td>895949</td>\n",
              "    </tr>\n",
              "    <tr>\n",
              "      <th>243</th>\n",
              "      <td>299</td>\n",
              "      <td>ZW</td>\n",
              "      <td>Zimbabwe</td>\n",
              "      <td>Harare</td>\n",
              "      <td>878675</td>\n",
              "    </tr>\n",
              "    <tr>\n",
              "      <th>244</th>\n",
              "      <td>300</td>\n",
              "      <td>CS</td>\n",
              "      <td>Serbia and Montenegro</td>\n",
              "      <td>Belgrade</td>\n",
              "      <td>8505033</td>\n",
              "    </tr>\n",
              "    <tr>\n",
              "      <th>245</th>\n",
              "      <td>301</td>\n",
              "      <td>AN</td>\n",
              "      <td>Netherlands Antilles</td>\n",
              "      <td>Willemstad</td>\n",
              "      <td>8505032</td>\n",
              "    </tr>\n",
              "  </tbody>\n",
              "</table>\n",
              "<p>246 rows × 5 columns</p>\n",
              "</div>"
            ],
            "text/plain": [
              "     index country_code                country           capital  geonameid\n",
              "0       49         #ISO                Country           Capital  geonameid\n",
              "1       50           AD                Andorra  Andorra la Vella    3041565\n",
              "2       51           AE   United Arab Emirates         Abu Dhabi     290557\n",
              "3       52           AF            Afghanistan             Kabul    1149361\n",
              "4       53           AG    Antigua and Barbuda        St. John's    3576396\n",
              "..     ...          ...                    ...               ...        ...\n",
              "241    297           ZA           South Africa          Pretoria     953987\n",
              "242    298           ZM                 Zambia            Lusaka     895949\n",
              "243    299           ZW               Zimbabwe            Harare     878675\n",
              "244    300           CS  Serbia and Montenegro          Belgrade    8505033\n",
              "245    301           AN   Netherlands Antilles        Willemstad    8505032\n",
              "\n",
              "[246 rows x 5 columns]"
            ]
          },
          "execution_count": 11,
          "metadata": {},
          "output_type": "execute_result"
        }
      ],
      "source": [
        "query =  'SELECT * FROM countries'\n",
        "pd.read_sql_query(query, con=engine)"
      ]
    },
    {
      "cell_type": "code",
      "execution_count": null,
      "id": "369e6acb-4009-4d68-9eec-6f1572312977",
      "metadata": {
        "tags": [],
        "id": "369e6acb-4009-4d68-9eec-6f1572312977"
      },
      "outputs": [],
      "source": [
        "alternate = pd.read_csv(\n",
        "    DATA/'alternateNamesV2.txt',\n",
        "    delimiter ='\\t',\n",
        "    header=None,\n",
        "    low_memory= False,\n",
        "    names=[\n",
        "        'alternate_name_id',\n",
        "        'geonameid',\n",
        "        'alternate_lang',\n",
        "        'alternate_name',\n",
        "        'is_preferred_name',\n",
        "        'is_short_name',\n",
        "        'is_colloquial',\n",
        "        'is_historic',\n",
        "        'use_from',\n",
        "        'Use_to'\n",
        "    ],\n",
        "    usecols = [\n",
        "        'alternate_name_id',\n",
        "        'geonameid',\n",
        "        'alternate_lang',\n",
        "        'alternate_name',\n",
        "    ]\n",
        ")"
      ]
    },
    {
      "cell_type": "code",
      "execution_count": null,
      "id": "d3279182-3617-4633-affb-45f08b3968fb",
      "metadata": {
        "tags": [],
        "id": "d3279182-3617-4633-affb-45f08b3968fb",
        "outputId": "81d9669d-0bed-4d6e-fba4-59f00870ab1d"
      },
      "outputs": [
        {
          "data": {
            "text/plain": [
              "367"
            ]
          },
          "execution_count": 13,
          "metadata": {},
          "output_type": "execute_result"
        }
      ],
      "source": [
        "alternate.to_sql('alternate', con=engine, if_exists='replace')"
      ]
    },
    {
      "cell_type": "code",
      "execution_count": null,
      "id": "6594b4f7-cb2d-4b92-8661-0fa9694bea92",
      "metadata": {
        "tags": [],
        "id": "6594b4f7-cb2d-4b92-8661-0fa9694bea92",
        "outputId": "ed6e0f79-fff7-4d47-e0de-048041bbce6d"
      },
      "outputs": [
        {
          "data": {
            "text/html": [
              "<div>\n",
              "<style scoped>\n",
              "    .dataframe tbody tr th:only-of-type {\n",
              "        vertical-align: middle;\n",
              "    }\n",
              "\n",
              "    .dataframe tbody tr th {\n",
              "        vertical-align: top;\n",
              "    }\n",
              "\n",
              "    .dataframe thead th {\n",
              "        text-align: right;\n",
              "    }\n",
              "</style>\n",
              "<table border=\"1\" class=\"dataframe\">\n",
              "  <thead>\n",
              "    <tr style=\"text-align: right;\">\n",
              "      <th></th>\n",
              "      <th>index</th>\n",
              "      <th>alternate_name_id</th>\n",
              "      <th>geonameid</th>\n",
              "      <th>alternate_lang</th>\n",
              "      <th>alternate_name</th>\n",
              "    </tr>\n",
              "  </thead>\n",
              "  <tbody>\n",
              "    <tr>\n",
              "      <th>0</th>\n",
              "      <td>0</td>\n",
              "      <td>1284819</td>\n",
              "      <td>2994701</td>\n",
              "      <td>None</td>\n",
              "      <td>Roc Mélé</td>\n",
              "    </tr>\n",
              "    <tr>\n",
              "      <th>1</th>\n",
              "      <td>1</td>\n",
              "      <td>1284820</td>\n",
              "      <td>2994701</td>\n",
              "      <td>None</td>\n",
              "      <td>Roc Meler</td>\n",
              "    </tr>\n",
              "    <tr>\n",
              "      <th>2</th>\n",
              "      <td>2</td>\n",
              "      <td>4285256</td>\n",
              "      <td>3007683</td>\n",
              "      <td>None</td>\n",
              "      <td>Pic des Langounelles</td>\n",
              "    </tr>\n",
              "    <tr>\n",
              "      <th>3</th>\n",
              "      <td>3</td>\n",
              "      <td>1291197</td>\n",
              "      <td>3017832</td>\n",
              "      <td>None</td>\n",
              "      <td>Pic de les Abelletes</td>\n",
              "    </tr>\n",
              "    <tr>\n",
              "      <th>4</th>\n",
              "      <td>4</td>\n",
              "      <td>4290387</td>\n",
              "      <td>3017832</td>\n",
              "      <td>None</td>\n",
              "      <td>Pic de la Font-Nègre</td>\n",
              "    </tr>\n",
              "  </tbody>\n",
              "</table>\n",
              "</div>"
            ],
            "text/plain": [
              "   index  alternate_name_id  geonameid alternate_lang        alternate_name\n",
              "0      0            1284819    2994701           None              Roc Mélé\n",
              "1      1            1284820    2994701           None             Roc Meler\n",
              "2      2            4285256    3007683           None  Pic des Langounelles\n",
              "3      3            1291197    3017832           None  Pic de les Abelletes\n",
              "4      4            4290387    3017832           None  Pic de la Font-Nègre"
            ]
          },
          "execution_count": 14,
          "metadata": {},
          "output_type": "execute_result"
        }
      ],
      "source": [
        "query = 'SELECT * FROM alternate LIMIT 5'\n",
        "pd.read_sql_query(query, con=engine)"
      ]
    },
    {
      "cell_type": "code",
      "execution_count": null,
      "id": "f296c915-2731-4fb7-8e47-7874d11ae1e1",
      "metadata": {
        "id": "f296c915-2731-4fb7-8e47-7874d11ae1e1",
        "outputId": "833eff4c-6d69-443a-9aa8-76c359e14532"
      },
      "outputs": [
        {
          "data": {
            "text/html": [
              "<div>\n",
              "<style scoped>\n",
              "    .dataframe tbody tr th:only-of-type {\n",
              "        vertical-align: middle;\n",
              "    }\n",
              "\n",
              "    .dataframe tbody tr th {\n",
              "        vertical-align: top;\n",
              "    }\n",
              "\n",
              "    .dataframe thead th {\n",
              "        text-align: right;\n",
              "    }\n",
              "</style>\n",
              "<table border=\"1\" class=\"dataframe\">\n",
              "  <thead>\n",
              "    <tr style=\"text-align: right;\">\n",
              "      <th></th>\n",
              "      <th>geonameid</th>\n",
              "      <th>name</th>\n",
              "      <th>region</th>\n",
              "      <th>alternate_name</th>\n",
              "      <th>country_code</th>\n",
              "      <th>admin1_code</th>\n",
              "    </tr>\n",
              "  </thead>\n",
              "  <tbody>\n",
              "    <tr>\n",
              "      <th>0</th>\n",
              "      <td>3040051</td>\n",
              "      <td>les Escaldes</td>\n",
              "      <td>les Escaldes</td>\n",
              "      <td>Ehskal'des-Ehndzhordani,Escaldes,Escaldes-Engo...</td>\n",
              "      <td>AD</td>\n",
              "      <td>08</td>\n",
              "    </tr>\n",
              "    <tr>\n",
              "      <th>1</th>\n",
              "      <td>3041563</td>\n",
              "      <td>Andorra la Vella</td>\n",
              "      <td>Andorra la Vella</td>\n",
              "      <td>ALV,Ando-la-Vyey,Andora,Andora la Vela,Andora ...</td>\n",
              "      <td>AD</td>\n",
              "      <td>07</td>\n",
              "    </tr>\n",
              "    <tr>\n",
              "      <th>2</th>\n",
              "      <td>290594</td>\n",
              "      <td>Umm Al Quwain City</td>\n",
              "      <td>Umm Al Quwain City</td>\n",
              "      <td>Oumm al Qaiwain,Oumm al Qaïwaïn,Um al Kawain,U...</td>\n",
              "      <td>AE</td>\n",
              "      <td>07</td>\n",
              "    </tr>\n",
              "    <tr>\n",
              "      <th>3</th>\n",
              "      <td>291074</td>\n",
              "      <td>Ras Al Khaimah City</td>\n",
              "      <td>Ras Al Khaimah City</td>\n",
              "      <td>Julfa,Khaimah,RAK City,RKT,Ra's al Khaymah,Ra'...</td>\n",
              "      <td>AE</td>\n",
              "      <td>05</td>\n",
              "    </tr>\n",
              "    <tr>\n",
              "      <th>4</th>\n",
              "      <td>291580</td>\n",
              "      <td>Zayed City</td>\n",
              "      <td>Zayed City</td>\n",
              "      <td>Bid' Zayed,Bid’ Zayed,Madinat Za'id,Madinat Za...</td>\n",
              "      <td>AE</td>\n",
              "      <td>01</td>\n",
              "    </tr>\n",
              "  </tbody>\n",
              "</table>\n",
              "</div>"
            ],
            "text/plain": [
              "   geonameid                 name               region  \\\n",
              "0    3040051         les Escaldes         les Escaldes   \n",
              "1    3041563     Andorra la Vella     Andorra la Vella   \n",
              "2     290594   Umm Al Quwain City   Umm Al Quwain City   \n",
              "3     291074  Ras Al Khaimah City  Ras Al Khaimah City   \n",
              "4     291580           Zayed City           Zayed City   \n",
              "\n",
              "                                      alternate_name country_code admin1_code  \n",
              "0  Ehskal'des-Ehndzhordani,Escaldes,Escaldes-Engo...           AD          08  \n",
              "1  ALV,Ando-la-Vyey,Andora,Andora la Vela,Andora ...           AD          07  \n",
              "2  Oumm al Qaiwain,Oumm al Qaïwaïn,Um al Kawain,U...           AE          07  \n",
              "3  Julfa,Khaimah,RAK City,RKT,Ra's al Khaymah,Ra'...           AE          05  \n",
              "4  Bid' Zayed,Bid’ Zayed,Madinat Za'id,Madinat Za...           AE          01  "
            ]
          },
          "execution_count": 15,
          "metadata": {},
          "output_type": "execute_result"
        }
      ],
      "source": [
        "cities15000 = pd.read_csv(\n",
        "    DATA/'cities15000.txt',\n",
        "    delimiter ='\\t',\n",
        "    header=None,\n",
        "    low_memory= False,\n",
        "    names=[\n",
        "        'geonameid',\n",
        "        'name',\n",
        "        'region',\n",
        "        'alternate_name',\n",
        "        'latitude',\n",
        "        'longitude',\n",
        "        'feature_class',\n",
        "        'feature_code',\n",
        "        'country_code',\n",
        "        'cc2',\n",
        "        'admin1_code',\n",
        "        'admin2_code',\n",
        "        'admin3_code',\n",
        "        'admin4_code',\n",
        "        'population',\n",
        "        'elevation',\n",
        "        'dem',\n",
        "        'timezone',\n",
        "        'modification_date'\n",
        "    ],\n",
        "    usecols = [\n",
        "        'geonameid',\n",
        "        'name',\n",
        "        'region',\n",
        "        'alternate_name',\n",
        "        'country_code',\n",
        "        'admin1_code',\n",
        "   ]).dropna()\n",
        "\n",
        "cities15000.head()"
      ]
    },
    {
      "cell_type": "code",
      "execution_count": null,
      "id": "e333b1ed-d25d-46c2-b91a-44bcd7d634db",
      "metadata": {
        "tags": [],
        "id": "e333b1ed-d25d-46c2-b91a-44bcd7d634db",
        "outputId": "9a0eb836-4f25-4e5c-8f8f-297d9f725cc9"
      },
      "outputs": [
        {
          "data": {
            "text/plain": [
              "817"
            ]
          },
          "execution_count": 16,
          "metadata": {},
          "output_type": "execute_result"
        }
      ],
      "source": [
        "cities15000.to_sql('cities15000', con=engine,  if_exists='replace')"
      ]
    },
    {
      "cell_type": "code",
      "execution_count": null,
      "id": "e8a6ad84-913f-4da9-a282-eb62a4ff9527",
      "metadata": {
        "tags": [],
        "id": "e8a6ad84-913f-4da9-a282-eb62a4ff9527",
        "outputId": "c21b1299-a054-452a-f140-520c93ff06a4"
      },
      "outputs": [
        {
          "data": {
            "text/html": [
              "<div>\n",
              "<style scoped>\n",
              "    .dataframe tbody tr th:only-of-type {\n",
              "        vertical-align: middle;\n",
              "    }\n",
              "\n",
              "    .dataframe tbody tr th {\n",
              "        vertical-align: top;\n",
              "    }\n",
              "\n",
              "    .dataframe thead th {\n",
              "        text-align: right;\n",
              "    }\n",
              "</style>\n",
              "<table border=\"1\" class=\"dataframe\">\n",
              "  <thead>\n",
              "    <tr style=\"text-align: right;\">\n",
              "      <th></th>\n",
              "      <th>index</th>\n",
              "      <th>geonameid</th>\n",
              "      <th>name</th>\n",
              "      <th>region</th>\n",
              "      <th>alternate_name</th>\n",
              "      <th>country_code</th>\n",
              "      <th>admin1_code</th>\n",
              "    </tr>\n",
              "  </thead>\n",
              "  <tbody>\n",
              "    <tr>\n",
              "      <th>0</th>\n",
              "      <td>0</td>\n",
              "      <td>3040051</td>\n",
              "      <td>les Escaldes</td>\n",
              "      <td>les Escaldes</td>\n",
              "      <td>Ehskal'des-Ehndzhordani,Escaldes,Escaldes-Engo...</td>\n",
              "      <td>AD</td>\n",
              "      <td>08</td>\n",
              "    </tr>\n",
              "    <tr>\n",
              "      <th>1</th>\n",
              "      <td>1</td>\n",
              "      <td>3041563</td>\n",
              "      <td>Andorra la Vella</td>\n",
              "      <td>Andorra la Vella</td>\n",
              "      <td>ALV,Ando-la-Vyey,Andora,Andora la Vela,Andora ...</td>\n",
              "      <td>AD</td>\n",
              "      <td>07</td>\n",
              "    </tr>\n",
              "    <tr>\n",
              "      <th>2</th>\n",
              "      <td>2</td>\n",
              "      <td>290594</td>\n",
              "      <td>Umm Al Quwain City</td>\n",
              "      <td>Umm Al Quwain City</td>\n",
              "      <td>Oumm al Qaiwain,Oumm al Qaïwaïn,Um al Kawain,U...</td>\n",
              "      <td>AE</td>\n",
              "      <td>07</td>\n",
              "    </tr>\n",
              "    <tr>\n",
              "      <th>3</th>\n",
              "      <td>3</td>\n",
              "      <td>291074</td>\n",
              "      <td>Ras Al Khaimah City</td>\n",
              "      <td>Ras Al Khaimah City</td>\n",
              "      <td>Julfa,Khaimah,RAK City,RKT,Ra's al Khaymah,Ra'...</td>\n",
              "      <td>AE</td>\n",
              "      <td>05</td>\n",
              "    </tr>\n",
              "    <tr>\n",
              "      <th>4</th>\n",
              "      <td>4</td>\n",
              "      <td>291580</td>\n",
              "      <td>Zayed City</td>\n",
              "      <td>Zayed City</td>\n",
              "      <td>Bid' Zayed,Bid’ Zayed,Madinat Za'id,Madinat Za...</td>\n",
              "      <td>AE</td>\n",
              "      <td>01</td>\n",
              "    </tr>\n",
              "  </tbody>\n",
              "</table>\n",
              "</div>"
            ],
            "text/plain": [
              "   index  geonameid                 name               region  \\\n",
              "0      0    3040051         les Escaldes         les Escaldes   \n",
              "1      1    3041563     Andorra la Vella     Andorra la Vella   \n",
              "2      2     290594   Umm Al Quwain City   Umm Al Quwain City   \n",
              "3      3     291074  Ras Al Khaimah City  Ras Al Khaimah City   \n",
              "4      4     291580           Zayed City           Zayed City   \n",
              "\n",
              "                                      alternate_name country_code admin1_code  \n",
              "0  Ehskal'des-Ehndzhordani,Escaldes,Escaldes-Engo...           AD          08  \n",
              "1  ALV,Ando-la-Vyey,Andora,Andora la Vela,Andora ...           AD          07  \n",
              "2  Oumm al Qaiwain,Oumm al Qaïwaïn,Um al Kawain,U...           AE          07  \n",
              "3  Julfa,Khaimah,RAK City,RKT,Ra's al Khaymah,Ra'...           AE          05  \n",
              "4  Bid' Zayed,Bid’ Zayed,Madinat Za'id,Madinat Za...           AE          01  "
            ]
          },
          "execution_count": 17,
          "metadata": {},
          "output_type": "execute_result"
        }
      ],
      "source": [
        "query = 'SELECT * FROM cities15000 LIMIT 5'\n",
        "pd.read_sql_query(query, con=engine)"
      ]
    },
    {
      "cell_type": "code",
      "execution_count": null,
      "id": "84bff8c5-d357-4cb4-9e3f-83b439477c7f",
      "metadata": {
        "tags": [],
        "id": "84bff8c5-d357-4cb4-9e3f-83b439477c7f",
        "outputId": "71a30852-47e0-45d3-9267-5083d346009c"
      },
      "outputs": [
        {
          "data": {
            "text/html": [
              "<div>\n",
              "<style scoped>\n",
              "    .dataframe tbody tr th:only-of-type {\n",
              "        vertical-align: middle;\n",
              "    }\n",
              "\n",
              "    .dataframe tbody tr th {\n",
              "        vertical-align: top;\n",
              "    }\n",
              "\n",
              "    .dataframe thead th {\n",
              "        text-align: right;\n",
              "    }\n",
              "</style>\n",
              "<table border=\"1\" class=\"dataframe\">\n",
              "  <thead>\n",
              "    <tr style=\"text-align: right;\">\n",
              "      <th></th>\n",
              "      <th>code</th>\n",
              "      <th>name</th>\n",
              "      <th>region</th>\n",
              "      <th>geonameid</th>\n",
              "      <th>country_code</th>\n",
              "      <th>country</th>\n",
              "      <th>capital</th>\n",
              "      <th>alternate_name</th>\n",
              "      <th>admin1_code</th>\n",
              "      <th>alternate_name_id</th>\n",
              "      <th>alternate_lang</th>\n",
              "    </tr>\n",
              "  </thead>\n",
              "  <tbody>\n",
              "    <tr>\n",
              "      <th>0</th>\n",
              "      <td>AD.06</td>\n",
              "      <td>Sant Julià de Loria</td>\n",
              "      <td>Sant Julia de Loria</td>\n",
              "      <td>3039162</td>\n",
              "      <td>NaN</td>\n",
              "      <td>NaN</td>\n",
              "      <td>NaN</td>\n",
              "      <td>NaN</td>\n",
              "      <td>NaN</td>\n",
              "      <td>NaN</td>\n",
              "      <td>NaN</td>\n",
              "    </tr>\n",
              "    <tr>\n",
              "      <th>1</th>\n",
              "      <td>AD.05</td>\n",
              "      <td>Ordino</td>\n",
              "      <td>Ordino</td>\n",
              "      <td>3039676</td>\n",
              "      <td>NaN</td>\n",
              "      <td>NaN</td>\n",
              "      <td>NaN</td>\n",
              "      <td>NaN</td>\n",
              "      <td>NaN</td>\n",
              "      <td>NaN</td>\n",
              "      <td>NaN</td>\n",
              "    </tr>\n",
              "    <tr>\n",
              "      <th>2</th>\n",
              "      <td>AD.04</td>\n",
              "      <td>La Massana</td>\n",
              "      <td>La Massana</td>\n",
              "      <td>3040131</td>\n",
              "      <td>NaN</td>\n",
              "      <td>NaN</td>\n",
              "      <td>NaN</td>\n",
              "      <td>NaN</td>\n",
              "      <td>NaN</td>\n",
              "      <td>NaN</td>\n",
              "      <td>NaN</td>\n",
              "    </tr>\n",
              "    <tr>\n",
              "      <th>3</th>\n",
              "      <td>AD.03</td>\n",
              "      <td>Encamp</td>\n",
              "      <td>Encamp</td>\n",
              "      <td>3040684</td>\n",
              "      <td>NaN</td>\n",
              "      <td>NaN</td>\n",
              "      <td>NaN</td>\n",
              "      <td>NaN</td>\n",
              "      <td>NaN</td>\n",
              "      <td>NaN</td>\n",
              "      <td>NaN</td>\n",
              "    </tr>\n",
              "    <tr>\n",
              "      <th>4</th>\n",
              "      <td>AD.02</td>\n",
              "      <td>Canillo</td>\n",
              "      <td>Canillo</td>\n",
              "      <td>3041203</td>\n",
              "      <td>NaN</td>\n",
              "      <td>NaN</td>\n",
              "      <td>NaN</td>\n",
              "      <td>NaN</td>\n",
              "      <td>NaN</td>\n",
              "      <td>NaN</td>\n",
              "      <td>NaN</td>\n",
              "    </tr>\n",
              "  </tbody>\n",
              "</table>\n",
              "</div>"
            ],
            "text/plain": [
              "    code                 name               region geonameid country_code  \\\n",
              "0  AD.06  Sant Julià de Loria  Sant Julia de Loria   3039162          NaN   \n",
              "1  AD.05               Ordino               Ordino   3039676          NaN   \n",
              "2  AD.04           La Massana           La Massana   3040131          NaN   \n",
              "3  AD.03               Encamp               Encamp   3040684          NaN   \n",
              "4  AD.02              Canillo              Canillo   3041203          NaN   \n",
              "\n",
              "  country capital alternate_name admin1_code  alternate_name_id alternate_lang  \n",
              "0     NaN     NaN            NaN         NaN                NaN            NaN  \n",
              "1     NaN     NaN            NaN         NaN                NaN            NaN  \n",
              "2     NaN     NaN            NaN         NaN                NaN            NaN  \n",
              "3     NaN     NaN            NaN         NaN                NaN            NaN  \n",
              "4     NaN     NaN            NaN         NaN                NaN            NaN  "
            ]
          },
          "execution_count": 18,
          "metadata": {},
          "output_type": "execute_result"
        }
      ],
      "source": [
        "data = pd.concat([admin_codes,countries,cities15000,alternate], ignore_index = True)\n",
        "data.head()"
      ]
    },
    {
      "cell_type": "code",
      "execution_count": null,
      "id": "4729b5b1-bb08-4a23-97c4-e11d643e3b29",
      "metadata": {
        "tags": [],
        "id": "4729b5b1-bb08-4a23-97c4-e11d643e3b29",
        "outputId": "ca2fc675-7622-4b71-9075-76fedf235344"
      },
      "outputs": [
        {
          "data": {
            "text/plain": [
              "(16064311, 11)"
            ]
          },
          "execution_count": 19,
          "metadata": {},
          "output_type": "execute_result"
        }
      ],
      "source": [
        "data.shape"
      ]
    },
    {
      "cell_type": "code",
      "execution_count": null,
      "id": "ab8c0ad2-22ee-45c7-8461-2829e18dfb1c",
      "metadata": {
        "tags": [],
        "id": "ab8c0ad2-22ee-45c7-8461-2829e18dfb1c",
        "outputId": "69742587-52bf-48bb-ea63-efe829726b1b"
      },
      "outputs": [
        {
          "data": {
            "text/html": [
              "<div>\n",
              "<style scoped>\n",
              "    .dataframe tbody tr th:only-of-type {\n",
              "        vertical-align: middle;\n",
              "    }\n",
              "\n",
              "    .dataframe tbody tr th {\n",
              "        vertical-align: top;\n",
              "    }\n",
              "\n",
              "    .dataframe thead th {\n",
              "        text-align: right;\n",
              "    }\n",
              "</style>\n",
              "<table border=\"1\" class=\"dataframe\">\n",
              "  <thead>\n",
              "    <tr style=\"text-align: right;\">\n",
              "      <th></th>\n",
              "      <th>code</th>\n",
              "      <th>name</th>\n",
              "      <th>region</th>\n",
              "      <th>geonameid</th>\n",
              "      <th>country_code</th>\n",
              "      <th>country</th>\n",
              "      <th>capital</th>\n",
              "      <th>alternate_name</th>\n",
              "      <th>admin1_code</th>\n",
              "      <th>alternate_name_id</th>\n",
              "      <th>alternate_lang</th>\n",
              "    </tr>\n",
              "  </thead>\n",
              "  <tbody>\n",
              "    <tr>\n",
              "      <th>3888</th>\n",
              "      <td>NaN</td>\n",
              "      <td>NaN</td>\n",
              "      <td>NaN</td>\n",
              "      <td>174982</td>\n",
              "      <td>AM</td>\n",
              "      <td>Armenia</td>\n",
              "      <td>Yerevan</td>\n",
              "      <td>NaN</td>\n",
              "      <td>NaN</td>\n",
              "      <td>NaN</td>\n",
              "      <td>NaN</td>\n",
              "    </tr>\n",
              "    <tr>\n",
              "      <th>3914</th>\n",
              "      <td>NaN</td>\n",
              "      <td>NaN</td>\n",
              "      <td>NaN</td>\n",
              "      <td>630336</td>\n",
              "      <td>BY</td>\n",
              "      <td>Belarus</td>\n",
              "      <td>Minsk</td>\n",
              "      <td>NaN</td>\n",
              "      <td>NaN</td>\n",
              "      <td>NaN</td>\n",
              "      <td>NaN</td>\n",
              "    </tr>\n",
              "    <tr>\n",
              "      <th>3957</th>\n",
              "      <td>NaN</td>\n",
              "      <td>NaN</td>\n",
              "      <td>NaN</td>\n",
              "      <td>614540</td>\n",
              "      <td>GE</td>\n",
              "      <td>Georgia</td>\n",
              "      <td>Tbilisi</td>\n",
              "      <td>NaN</td>\n",
              "      <td>NaN</td>\n",
              "      <td>NaN</td>\n",
              "      <td>NaN</td>\n",
              "    </tr>\n",
              "    <tr>\n",
              "      <th>3993</th>\n",
              "      <td>NaN</td>\n",
              "      <td>NaN</td>\n",
              "      <td>NaN</td>\n",
              "      <td>1527747</td>\n",
              "      <td>KG</td>\n",
              "      <td>Kyrgyzstan</td>\n",
              "      <td>Bishkek</td>\n",
              "      <td>NaN</td>\n",
              "      <td>NaN</td>\n",
              "      <td>NaN</td>\n",
              "      <td>NaN</td>\n",
              "    </tr>\n",
              "    <tr>\n",
              "      <th>4003</th>\n",
              "      <td>NaN</td>\n",
              "      <td>NaN</td>\n",
              "      <td>NaN</td>\n",
              "      <td>1522867</td>\n",
              "      <td>KZ</td>\n",
              "      <td>Kazakhstan</td>\n",
              "      <td>Nur-Sultan</td>\n",
              "      <td>NaN</td>\n",
              "      <td>NaN</td>\n",
              "      <td>NaN</td>\n",
              "      <td>NaN</td>\n",
              "    </tr>\n",
              "  </tbody>\n",
              "</table>\n",
              "</div>"
            ],
            "text/plain": [
              "     code name region geonameid country_code     country     capital  \\\n",
              "3888  NaN  NaN    NaN    174982           AM     Armenia     Yerevan   \n",
              "3914  NaN  NaN    NaN    630336           BY     Belarus       Minsk   \n",
              "3957  NaN  NaN    NaN    614540           GE     Georgia     Tbilisi   \n",
              "3993  NaN  NaN    NaN   1527747           KG  Kyrgyzstan     Bishkek   \n",
              "4003  NaN  NaN    NaN   1522867           KZ  Kazakhstan  Nur-Sultan   \n",
              "\n",
              "     alternate_name admin1_code  alternate_name_id alternate_lang  \n",
              "3888            NaN         NaN                NaN            NaN  \n",
              "3914            NaN         NaN                NaN            NaN  \n",
              "3957            NaN         NaN                NaN            NaN  \n",
              "3993            NaN         NaN                NaN            NaN  \n",
              "4003            NaN         NaN                NaN            NaN  "
            ]
          },
          "execution_count": 20,
          "metadata": {},
          "output_type": "execute_result"
        }
      ],
      "source": [
        "data['code'] = data.country_code + '.' +  data.admin1_code\n",
        "#data = data.drop('admin1_code', axis = `1)\n",
        "data = data[data.country_code.isin(RELOC_COUNTRIES)]\n",
        "data.head()"
      ]
    },
    {
      "cell_type": "code",
      "execution_count": null,
      "id": "e1f39c4e-0387-485f-b5b2-bc1440dc4712",
      "metadata": {
        "tags": [],
        "id": "e1f39c4e-0387-485f-b5b2-bc1440dc4712",
        "outputId": "f68b19b2-6f63-4c11-8483-289738c3735a"
      },
      "outputs": [
        {
          "data": {
            "text/plain": [
              "(1353, 11)"
            ]
          },
          "execution_count": 21,
          "metadata": {},
          "output_type": "execute_result"
        }
      ],
      "source": [
        "data.shape"
      ]
    },
    {
      "cell_type": "code",
      "execution_count": null,
      "id": "4e367984-346e-49e8-bf4f-2fe5e8003570",
      "metadata": {
        "tags": [],
        "id": "4e367984-346e-49e8-bf4f-2fe5e8003570",
        "outputId": "9472d94f-a4ce-4540-a955-7ba7eddef569"
      },
      "outputs": [
        {
          "data": {
            "text/html": [
              "<div>\n",
              "<style scoped>\n",
              "    .dataframe tbody tr th:only-of-type {\n",
              "        vertical-align: middle;\n",
              "    }\n",
              "\n",
              "    .dataframe tbody tr th {\n",
              "        vertical-align: top;\n",
              "    }\n",
              "\n",
              "    .dataframe thead th {\n",
              "        text-align: right;\n",
              "    }\n",
              "</style>\n",
              "<table border=\"1\" class=\"dataframe\">\n",
              "  <thead>\n",
              "    <tr style=\"text-align: right;\">\n",
              "      <th></th>\n",
              "      <th>code</th>\n",
              "      <th>geonameid</th>\n",
              "      <th>name</th>\n",
              "      <th>alternate_name</th>\n",
              "      <th>region</th>\n",
              "      <th>country</th>\n",
              "      <th>country_code</th>\n",
              "    </tr>\n",
              "  </thead>\n",
              "  <tbody>\n",
              "    <tr>\n",
              "      <th>0</th>\n",
              "      <td>NaN</td>\n",
              "      <td>174982</td>\n",
              "      <td>NaN</td>\n",
              "      <td>NaN</td>\n",
              "      <td>NaN</td>\n",
              "      <td>Armenia</td>\n",
              "      <td>AM</td>\n",
              "    </tr>\n",
              "    <tr>\n",
              "      <th>1</th>\n",
              "      <td>NaN</td>\n",
              "      <td>630336</td>\n",
              "      <td>NaN</td>\n",
              "      <td>NaN</td>\n",
              "      <td>NaN</td>\n",
              "      <td>Belarus</td>\n",
              "      <td>BY</td>\n",
              "    </tr>\n",
              "    <tr>\n",
              "      <th>2</th>\n",
              "      <td>NaN</td>\n",
              "      <td>614540</td>\n",
              "      <td>NaN</td>\n",
              "      <td>NaN</td>\n",
              "      <td>NaN</td>\n",
              "      <td>Georgia</td>\n",
              "      <td>GE</td>\n",
              "    </tr>\n",
              "    <tr>\n",
              "      <th>3</th>\n",
              "      <td>NaN</td>\n",
              "      <td>1527747</td>\n",
              "      <td>NaN</td>\n",
              "      <td>NaN</td>\n",
              "      <td>NaN</td>\n",
              "      <td>Kyrgyzstan</td>\n",
              "      <td>KG</td>\n",
              "    </tr>\n",
              "    <tr>\n",
              "      <th>4</th>\n",
              "      <td>NaN</td>\n",
              "      <td>1522867</td>\n",
              "      <td>NaN</td>\n",
              "      <td>NaN</td>\n",
              "      <td>NaN</td>\n",
              "      <td>Kazakhstan</td>\n",
              "      <td>KZ</td>\n",
              "    </tr>\n",
              "  </tbody>\n",
              "</table>\n",
              "</div>"
            ],
            "text/plain": [
              "  code geonameid name alternate_name region     country country_code\n",
              "0  NaN    174982  NaN            NaN    NaN     Armenia           AM\n",
              "1  NaN    630336  NaN            NaN    NaN     Belarus           BY\n",
              "2  NaN    614540  NaN            NaN    NaN     Georgia           GE\n",
              "3  NaN   1527747  NaN            NaN    NaN  Kyrgyzstan           KG\n",
              "4  NaN   1522867  NaN            NaN    NaN  Kazakhstan           KZ"
            ]
          },
          "execution_count": 22,
          "metadata": {},
          "output_type": "execute_result"
        }
      ],
      "source": [
        "data = data[['code','geonameid', 'name', 'alternate_name', 'region','country','country_code']]\\\n",
        "                      .drop_duplicates()\\\n",
        "                      .reset_index(drop=True)\n",
        "\n",
        "data.head()"
      ]
    },
    {
      "cell_type": "code",
      "execution_count": null,
      "id": "93aec818-0ac2-48b0-9022-9eb63d03a7b5",
      "metadata": {
        "tags": [],
        "id": "93aec818-0ac2-48b0-9022-9eb63d03a7b5",
        "outputId": "27d5a23b-9d7d-4b5f-8bad-25a9d7f26618"
      },
      "outputs": [
        {
          "data": {
            "text/plain": [
              "(1353, 7)"
            ]
          },
          "execution_count": 24,
          "metadata": {},
          "output_type": "execute_result"
        }
      ],
      "source": [
        "data.shape"
      ]
    },
    {
      "cell_type": "code",
      "execution_count": null,
      "id": "bef61e72-c587-4e35-9b13-dc4ecdcaad87",
      "metadata": {
        "tags": [],
        "id": "bef61e72-c587-4e35-9b13-dc4ecdcaad87"
      },
      "outputs": [],
      "source": [
        "data.alternate_name = data.alternate_name.str.split(',')\n",
        "data = data.explode('alternate_name')\n",
        "data = data[data.name!=data.alternate_name]\n",
        "data = data.drop_duplicates(subset= ['name', 'alternate_name'])"
      ]
    },
    {
      "cell_type": "code",
      "execution_count": null,
      "id": "7963c726-9262-4eef-b67d-94f9663aaafd",
      "metadata": {
        "tags": [],
        "id": "7963c726-9262-4eef-b67d-94f9663aaafd",
        "outputId": "edc5f091-3244-4043-8714-9a3b0a4db523"
      },
      "outputs": [
        {
          "data": {
            "text/html": [
              "<div>\n",
              "<style scoped>\n",
              "    .dataframe tbody tr th:only-of-type {\n",
              "        vertical-align: middle;\n",
              "    }\n",
              "\n",
              "    .dataframe tbody tr th {\n",
              "        vertical-align: top;\n",
              "    }\n",
              "\n",
              "    .dataframe thead th {\n",
              "        text-align: right;\n",
              "    }\n",
              "</style>\n",
              "<table border=\"1\" class=\"dataframe\">\n",
              "  <thead>\n",
              "    <tr style=\"text-align: right;\">\n",
              "      <th></th>\n",
              "      <th>code</th>\n",
              "      <th>geonameid</th>\n",
              "      <th>name</th>\n",
              "      <th>alternate_name</th>\n",
              "      <th>region</th>\n",
              "      <th>country</th>\n",
              "      <th>country_code</th>\n",
              "    </tr>\n",
              "  </thead>\n",
              "  <tbody>\n",
              "    <tr>\n",
              "      <th>0</th>\n",
              "      <td>NaN</td>\n",
              "      <td>174982</td>\n",
              "      <td>NaN</td>\n",
              "      <td>NaN</td>\n",
              "      <td>NaN</td>\n",
              "      <td>Armenia</td>\n",
              "      <td>AM</td>\n",
              "    </tr>\n",
              "    <tr>\n",
              "      <th>8</th>\n",
              "      <td>AM.08</td>\n",
              "      <td>174875</td>\n",
              "      <td>Kapan</td>\n",
              "      <td>Ghap'an</td>\n",
              "      <td>Kapan</td>\n",
              "      <td>NaN</td>\n",
              "      <td>AM</td>\n",
              "    </tr>\n",
              "    <tr>\n",
              "      <th>8</th>\n",
              "      <td>AM.08</td>\n",
              "      <td>174875</td>\n",
              "      <td>Kapan</td>\n",
              "      <td>Ghapan</td>\n",
              "      <td>Kapan</td>\n",
              "      <td>NaN</td>\n",
              "      <td>AM</td>\n",
              "    </tr>\n",
              "    <tr>\n",
              "      <th>8</th>\n",
              "      <td>AM.08</td>\n",
              "      <td>174875</td>\n",
              "      <td>Kapan</td>\n",
              "      <td>Ghap’an</td>\n",
              "      <td>Kapan</td>\n",
              "      <td>NaN</td>\n",
              "      <td>AM</td>\n",
              "    </tr>\n",
              "    <tr>\n",
              "      <th>8</th>\n",
              "      <td>AM.08</td>\n",
              "      <td>174875</td>\n",
              "      <td>Kapan</td>\n",
              "      <td>Kafan</td>\n",
              "      <td>Kapan</td>\n",
              "      <td>NaN</td>\n",
              "      <td>AM</td>\n",
              "    </tr>\n",
              "    <tr>\n",
              "      <th>...</th>\n",
              "      <td>...</td>\n",
              "      <td>...</td>\n",
              "      <td>...</td>\n",
              "      <td>...</td>\n",
              "      <td>...</td>\n",
              "      <td>...</td>\n",
              "      <td>...</td>\n",
              "    </tr>\n",
              "    <tr>\n",
              "      <th>1350</th>\n",
              "      <td>RU.47</td>\n",
              "      <td>8521440</td>\n",
              "      <td>Dzerzhinsky</td>\n",
              "      <td>Дзержинский</td>\n",
              "      <td>Dzerzhinsky</td>\n",
              "      <td>NaN</td>\n",
              "      <td>RU</td>\n",
              "    </tr>\n",
              "    <tr>\n",
              "      <th>1351</th>\n",
              "      <td>RU.32</td>\n",
              "      <td>11886891</td>\n",
              "      <td>Fedorovskiy</td>\n",
              "      <td>Fedorovskij</td>\n",
              "      <td>Fedorovskiy</td>\n",
              "      <td>NaN</td>\n",
              "      <td>RU</td>\n",
              "    </tr>\n",
              "    <tr>\n",
              "      <th>1351</th>\n",
              "      <td>RU.32</td>\n",
              "      <td>11886891</td>\n",
              "      <td>Fedorovskiy</td>\n",
              "      <td>Федоровский</td>\n",
              "      <td>Fedorovskiy</td>\n",
              "      <td>NaN</td>\n",
              "      <td>RU</td>\n",
              "    </tr>\n",
              "    <tr>\n",
              "      <th>1352</th>\n",
              "      <td>RU.08</td>\n",
              "      <td>12041452</td>\n",
              "      <td>Mezgor'e</td>\n",
              "      <td>Mezhgor'e</td>\n",
              "      <td>Mezgor'e</td>\n",
              "      <td>NaN</td>\n",
              "      <td>RU</td>\n",
              "    </tr>\n",
              "    <tr>\n",
              "      <th>1352</th>\n",
              "      <td>RU.08</td>\n",
              "      <td>12041452</td>\n",
              "      <td>Mezgor'e</td>\n",
              "      <td>Межгорье</td>\n",
              "      <td>Mezgor'e</td>\n",
              "      <td>NaN</td>\n",
              "      <td>RU</td>\n",
              "    </tr>\n",
              "  </tbody>\n",
              "</table>\n",
              "<p>19016 rows × 7 columns</p>\n",
              "</div>"
            ],
            "text/plain": [
              "       code geonameid         name alternate_name       region  country  \\\n",
              "0       NaN    174982          NaN            NaN          NaN  Armenia   \n",
              "8     AM.08    174875        Kapan        Ghap'an        Kapan      NaN   \n",
              "8     AM.08    174875        Kapan         Ghapan        Kapan      NaN   \n",
              "8     AM.08    174875        Kapan        Ghap’an        Kapan      NaN   \n",
              "8     AM.08    174875        Kapan          Kafan        Kapan      NaN   \n",
              "...     ...       ...          ...            ...          ...      ...   \n",
              "1350  RU.47   8521440  Dzerzhinsky    Дзержинский  Dzerzhinsky      NaN   \n",
              "1351  RU.32  11886891  Fedorovskiy    Fedorovskij  Fedorovskiy      NaN   \n",
              "1351  RU.32  11886891  Fedorovskiy    Федоровский  Fedorovskiy      NaN   \n",
              "1352  RU.08  12041452     Mezgor'e      Mezhgor'e     Mezgor'e      NaN   \n",
              "1352  RU.08  12041452     Mezgor'e       Межгорье     Mezgor'e      NaN   \n",
              "\n",
              "     country_code  \n",
              "0              AM  \n",
              "8              AM  \n",
              "8              AM  \n",
              "8              AM  \n",
              "8              AM  \n",
              "...           ...  \n",
              "1350           RU  \n",
              "1351           RU  \n",
              "1351           RU  \n",
              "1352           RU  \n",
              "1352           RU  \n",
              "\n",
              "[19016 rows x 7 columns]"
            ]
          },
          "execution_count": 26,
          "metadata": {},
          "output_type": "execute_result"
        }
      ],
      "source": [
        "data"
      ]
    },
    {
      "cell_type": "code",
      "execution_count": null,
      "id": "a995cf57-e7fa-4d4d-9233-53afc1f29b40",
      "metadata": {
        "tags": [],
        "id": "a995cf57-e7fa-4d4d-9233-53afc1f29b40",
        "outputId": "c814ae69-63d1-4066-8133-7dc6d9558792"
      },
      "outputs": [
        {
          "data": {
            "text/plain": [
              "(19016, 7)"
            ]
          },
          "execution_count": 27,
          "metadata": {},
          "output_type": "execute_result"
        }
      ],
      "source": [
        "data.shape"
      ]
    },
    {
      "cell_type": "code",
      "execution_count": null,
      "id": "f381b401-b0c1-4521-8233-8bf323878a38",
      "metadata": {
        "tags": [],
        "id": "f381b401-b0c1-4521-8233-8bf323878a38"
      },
      "outputs": [],
      "source": [
        "data['example'] = (data[['name', 'alternate_name']]\n",
        "                        .apply(lambda x:InputExample(texts=list(x)),\n",
        "                               axis = 1))\n",
        "\n",
        "train_examples = data['example'].to_list()"
      ]
    },
    {
      "cell_type": "code",
      "execution_count": null,
      "id": "2b8b85d2-5b1c-432e-9ef7-842ea07ccf48",
      "metadata": {
        "tags": [],
        "id": "2b8b85d2-5b1c-432e-9ef7-842ea07ccf48"
      },
      "outputs": [],
      "source": [
        "labse = SentenceTransformer('sentence-transformers/LaBSE')"
      ]
    },
    {
      "cell_type": "code",
      "execution_count": null,
      "id": "70c1f11b-fec7-4445-be08-b4d69d73c450",
      "metadata": {
        "tags": [],
        "id": "70c1f11b-fec7-4445-be08-b4d69d73c450",
        "outputId": "63a9df13-9fe5-4d99-ac67-2715ee2ce491"
      },
      "outputs": [
        {
          "data": {
            "text/plain": [
              "array([nan, 'Kapan', 'Goris', 'Hats’avan', 'Artashat', 'Ararat',\n",
              "       'Yerevan', 'Vagharshapat', 'Stepanavan', 'Spitak'], dtype=object)"
            ]
          },
          "execution_count": 30,
          "metadata": {},
          "output_type": "execute_result"
        }
      ],
      "source": [
        "names = data.name.drop_duplicates().values\n",
        "names[:10]"
      ]
    },
    {
      "cell_type": "code",
      "execution_count": null,
      "id": "77ca70f2-ee2f-4f91-86ee-9a2a7d8ff4ee",
      "metadata": {
        "tags": [],
        "id": "77ca70f2-ee2f-4f91-86ee-9a2a7d8ff4ee",
        "outputId": "1eaa9c4d-0555-4c55-8a38-9c4a5f7e89e9"
      },
      "outputs": [
        {
          "data": {
            "text/plain": [
              "(1325, 768)"
            ]
          },
          "execution_count": 31,
          "metadata": {},
          "output_type": "execute_result"
        }
      ],
      "source": [
        "embeddings = labse.encode(names)\n",
        "embeddings.shape"
      ]
    },
    {
      "cell_type": "code",
      "execution_count": null,
      "id": "46552806-a280-4c22-9cb2-c192d956c87d",
      "metadata": {
        "tags": [],
        "id": "46552806-a280-4c22-9cb2-c192d956c87d"
      },
      "outputs": [],
      "source": [
        "def get_sim(geoname, names=names, embeddings= embeddings,model =labse, top_k=3):\n",
        "    result= pd.DataFrame(util.semantic_search(model.encode(geoname),embeddings, top_k= top_k) [0])\n",
        "    return result.assign(name=names[result.corpus_id])"
      ]
    },
    {
      "cell_type": "code",
      "execution_count": null,
      "id": "38c7ac11-e019-40ae-9b0f-45f72681cad6",
      "metadata": {
        "tags": [],
        "id": "38c7ac11-e019-40ae-9b0f-45f72681cad6",
        "outputId": "3286de1d-50a3-4e36-f892-c8616a2dccf9"
      },
      "outputs": [
        {
          "data": {
            "text/plain": [
              "[{'score': 0.9397482872009277, 'name': 'Moscow'},\n",
              " {'score': 0.7571744918823242, 'name': 'Moskovskiy'},\n",
              " {'score': 0.6858565807342529, 'name': 'Minsk'}]"
            ]
          },
          "execution_count": 33,
          "metadata": {},
          "output_type": "execute_result"
        }
      ],
      "source": [
        "get_sim('Масква').drop('corpus_id', axis=1).to_dict(orient='records')"
      ]
    },
    {
      "cell_type": "code",
      "execution_count": null,
      "id": "15fdb442-c4c8-466a-bf53-9fb99e6f307e",
      "metadata": {
        "tags": [],
        "id": "15fdb442-c4c8-466a-bf53-9fb99e6f307e",
        "outputId": "4b99dc12-27a0-421e-938a-814ade4c6552"
      },
      "outputs": [
        {
          "data": {
            "text/plain": [
              "[{'score': 0.5200719237327576, 'name': 'Saint Petersburg'},\n",
              " {'score': 0.43851250410079956, 'name': 'Pinsk'},\n",
              " {'score': 0.41483384370803833, 'name': 'Sestroretsk'}]"
            ]
          },
          "execution_count": 34,
          "metadata": {},
          "output_type": "execute_result"
        }
      ],
      "source": [
        "get_sim('сантк- питербурк').drop('corpus_id', axis=1).to_dict(orient='records')"
      ]
    },
    {
      "cell_type": "code",
      "execution_count": null,
      "id": "c1e38d3d-dc35-4caf-8e4b-f01ba3c772bf",
      "metadata": {
        "tags": [],
        "id": "c1e38d3d-dc35-4caf-8e4b-f01ba3c772bf",
        "outputId": "7f8036d7-a101-4a5d-f576-d14c13e8a73e"
      },
      "outputs": [
        {
          "data": {
            "text/plain": [
              "[{'score': 0.9180408120155334, 'name': 'Krasnodar'},\n",
              " {'score': 0.692857563495636, 'name': 'Krasnoyarsk'},\n",
              " {'score': 0.6585469245910645, 'name': 'Kazan'}]"
            ]
          },
          "execution_count": 35,
          "metadata": {},
          "output_type": "execute_result"
        }
      ],
      "source": [
        "get_sim('Краснодар').drop('corpus_id', axis=1).to_dict(orient='records')"
      ]
    },
    {
      "cell_type": "code",
      "execution_count": null,
      "id": "22b6f658-eafd-4365-9125-0ef79c8215f7",
      "metadata": {
        "tags": [],
        "id": "22b6f658-eafd-4365-9125-0ef79c8215f7",
        "outputId": "49e30fe2-5cfc-4aa5-9a42-a469e01a4989"
      },
      "outputs": [
        {
          "data": {
            "text/plain": [
              "[{'score': 1.000000238418579, 'name': 'Moscow'},\n",
              " {'score': 0.8265248537063599, 'name': 'Moskovskiy'},\n",
              " {'score': 0.7368156909942627, 'name': 'Mostovskoy'}]"
            ]
          },
          "execution_count": 36,
          "metadata": {},
          "output_type": "execute_result"
        }
      ],
      "source": [
        "get_sim('Moscow').drop('corpus_id', axis=1).to_dict(orient='records')"
      ]
    },
    {
      "cell_type": "code",
      "execution_count": null,
      "id": "e7b9f3e1-b76b-401e-9e76-6c9260cf2504",
      "metadata": {
        "id": "e7b9f3e1-b76b-401e-9e76-6c9260cf2504"
      },
      "outputs": [],
      "source": [
        "train_dataloader = DataLoader(train_examples, shuffle=True, batch_size=16)\n",
        "train_loss = losses.MultipleNegativesRankingLoss(model=labse)"
      ]
    },
    {
      "cell_type": "code",
      "execution_count": null,
      "id": "dae166d5-18bc-49a6-9023-1668e3dca9af",
      "metadata": {
        "tags": [],
        "id": "dae166d5-18bc-49a6-9023-1668e3dca9af",
        "outputId": "f2b1b741-cd63-4b88-cce1-5a07429fa5f8",
        "colab": {
          "referenced_widgets": [
            "75ac13a2341442dfa80d723b659c9764",
            "11a5be17c399435caf3840b591385745",
            "46c956112a3d45bc9694ba73ee98d5e4",
            "473e207fa09a4df8a98255fb6bffc045"
          ]
        }
      },
      "outputs": [
        {
          "data": {
            "application/vnd.jupyter.widget-view+json": {
              "model_id": "75ac13a2341442dfa80d723b659c9764",
              "version_major": 2,
              "version_minor": 0
            },
            "text/plain": [
              "Epoch:   0%|          | 0/3 [00:00<?, ?it/s]"
            ]
          },
          "metadata": {},
          "output_type": "display_data"
        },
        {
          "data": {
            "application/vnd.jupyter.widget-view+json": {
              "model_id": "11a5be17c399435caf3840b591385745",
              "version_major": 2,
              "version_minor": 0
            },
            "text/plain": [
              "Iteration:   0%|          | 0/1189 [00:00<?, ?it/s]"
            ]
          },
          "metadata": {},
          "output_type": "display_data"
        },
        {
          "data": {
            "application/vnd.jupyter.widget-view+json": {
              "model_id": "46c956112a3d45bc9694ba73ee98d5e4",
              "version_major": 2,
              "version_minor": 0
            },
            "text/plain": [
              "Iteration:   0%|          | 0/1189 [00:00<?, ?it/s]"
            ]
          },
          "metadata": {},
          "output_type": "display_data"
        },
        {
          "data": {
            "application/vnd.jupyter.widget-view+json": {
              "model_id": "473e207fa09a4df8a98255fb6bffc045",
              "version_major": 2,
              "version_minor": 0
            },
            "text/plain": [
              "Iteration:   0%|          | 0/1189 [00:00<?, ?it/s]"
            ]
          },
          "metadata": {},
          "output_type": "display_data"
        }
      ],
      "source": [
        "labse.fit(train_objectives=[(train_dataloader, train_loss)], epochs=3)"
      ]
    },
    {
      "cell_type": "code",
      "execution_count": null,
      "id": "89e4e259-8736-4ee8-92bd-5173c2f441bd",
      "metadata": {
        "tags": [],
        "id": "89e4e259-8736-4ee8-92bd-5173c2f441bd"
      },
      "outputs": [],
      "source": [
        "labse.save('labse-fine-tune_data_RU_BY_KG_KZ_AM_GE_RS_ME')"
      ]
    },
    {
      "cell_type": "code",
      "execution_count": null,
      "id": "26c717a6-9c39-4d5e-a254-c137370de336",
      "metadata": {
        "id": "26c717a6-9c39-4d5e-a254-c137370de336"
      },
      "outputs": [],
      "source": [
        "%load_ext autoreload\n",
        "%autoreload 2\n",
        "from test_module import get_similar\n"
      ]
    }
  ],
  "metadata": {
    "kernelspec": {
      "display_name": "Python 3 (ipykernel)",
      "language": "python",
      "name": "python3"
    },
    "language_info": {
      "codemirror_mode": {
        "name": "ipython",
        "version": 3
      },
      "file_extension": ".py",
      "mimetype": "text/x-python",
      "name": "python",
      "nbconvert_exporter": "python",
      "pygments_lexer": "ipython3",
      "version": "3.11.5"
    },
    "colab": {
      "provenance": []
    }
  },
  "nbformat": 4,
  "nbformat_minor": 5
}